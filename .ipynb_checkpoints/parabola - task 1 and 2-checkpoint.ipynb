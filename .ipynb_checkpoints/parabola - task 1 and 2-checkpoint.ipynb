{
 "cells": [
  {
   "cell_type": "code",
   "execution_count": 5,
   "metadata": {},
   "outputs": [],
   "source": [
    "import numpy as np\n",
    "import pandas as pd\n",
    "import matplotlib.pyplot as plt"
   ]
  },
  {
   "cell_type": "code",
   "execution_count": 6,
   "metadata": {},
   "outputs": [],
   "source": [
    "def parabola(x, a, b, c, s):\n",
    "    y = a*(x**2) + b*x + c\n",
    "    y += s * np.random.randn(len(y))\n",
    "    return y"
   ]
  },
  {
   "cell_type": "code",
   "execution_count": 7,
   "metadata": {},
   "outputs": [],
   "source": [
    "def tr_matr(arr):\n",
    "    tr = [[]]\n",
    "    for i in range(len(arr[0])):\n",
    "        for j in range(len(arr)):\n",
    "            tr[i].append(arr[j][i])\n",
    "        if i != len(arr[0])-1:\n",
    "            tr.append([])\n",
    "    return tr   "
   ]
  },
  {
   "cell_type": "code",
   "execution_count": 8,
   "metadata": {},
   "outputs": [],
   "source": [
    "def opred_matr(arr):\n",
    "    opr=0.\n",
    "    if len(arr) == 2:\n",
    "        opr=arr[0][0]*arr[1][1]-arr[0][1]*arr[1][0]\n",
    "    else:\n",
    "        for i in range(len(arr)):\n",
    "            tmpi=i\n",
    "            tmpOpr=1.\n",
    "            for j in range(len(arr)):\n",
    "                tmpOpr*=arr[tmpi][j]\n",
    "                tmpi+=1\n",
    "                if tmpi == len(arr):\n",
    "                    tmpi=0\n",
    "            opr+=tmpOpr\n",
    "        for i in range(len(arr)):\n",
    "            tmpi=i\n",
    "            tmpOpr=1.\n",
    "            for j in range(len(arr))[::-1]:\n",
    "                tmpOpr*=arr[tmpi][j]\n",
    "                tmpi+=1\n",
    "                if tmpi == len(arr):\n",
    "                    tmpi=0\n",
    "            opr-=tmpOpr\n",
    "    return opr "
   ]
  },
  {
   "cell_type": "code",
   "execution_count": 9,
   "metadata": {},
   "outputs": [],
   "source": [
    "def obr_matr(arr):\n",
    "    opr=opred_matr(arr)\n",
    "    if opr != 0:\n",
    "        obr=[[]]\n",
    "        tmp_arr = arr.copy()\n",
    "        tmp_arr = tr_matr(tmp_arr)\n",
    "        for i in range(len(tmp_arr)):\n",
    "            for j in range(len(tmp_arr)):\n",
    "                dop_arr = []\n",
    "                for i2 in range(len(tmp_arr)):\n",
    "                    for j2 in range(len(tmp_arr)):\n",
    "                        if i2!=i and j2!=j:\n",
    "                            dop_arr.append(tmp_arr[i2][j2])\n",
    "                dop_arr2=[[dop_arr[0],dop_arr[1]],[dop_arr[2],dop_arr[3]]]\n",
    "                obr.append(round(((-1)**(i+j+2))*(opred_matr(dop_arr2)),10))\n",
    "        obr=obr[1:]\n",
    "        for i in range(len(obr)):\n",
    "            obr[i]=obr[i]/opr        \n",
    "        obr=np.array(obr).reshape(3,3)         \n",
    "        return obr\n",
    "    else:\n",
    "        raise Exception('ERROR:opredelitel = 0')"
   ]
  },
  {
   "cell_type": "code",
   "execution_count": 10,
   "metadata": {},
   "outputs": [],
   "source": [
    "def arr3x3_x_vect1x3(arr,vect):\n",
    "    vect_out = [0.,0.,0.]\n",
    "    for i in range(3):\n",
    "        for j in range(3):\n",
    "            vect_out[i]+=arr[i][j]*vect[j]\n",
    "    return vect_out[::-1]           "
   ]
  },
  {
   "cell_type": "code",
   "execution_count": 11,
   "metadata": {},
   "outputs": [
    {
     "name": "stdout",
     "output_type": "stream",
     "text": [
      "point  0 [X= 1.0 ,Y= 6.424206720157334 ]\n",
      "point  1 [X= 10.9 ,Y= 1210.9960616225594 ]\n",
      "point  2 [X= 20.8 ,Y= 4363.817691911604 ]\n",
      "point  3 [X= 30.700000000000003 ,Y= 9481.415282061833 ]\n",
      "point  4 [X= 40.6 ,Y= 16565.699765685844 ]\n",
      "point  5 [X= 50.5 ,Y= 25593.13764855515 ]\n",
      "point  6 [X= 60.400000000000006 ,Y= 36612.6220802404 ]\n",
      "point  7 [X= 70.3 ,Y= 49584.29854001588 ]\n",
      "point  8 [X= 80.2 ,Y= 64472.01000136045 ]\n",
      "point  9 [X= 90.10000000000001 ,Y= 81379.7413538542 ]\n",
      "point  10 [X= 100.0 ,Y= 100207.35564147048 ]\n",
      "point  11 [X= 109.9 ,Y= 121001.22743102284 ]\n",
      "point  12 [X= 119.80000000000001 ,Y= 143760.65486726866 ]\n",
      "point  13 [X= 129.70000000000002 ,Y= 168474.64564615255 ]\n",
      "point  14 [X= 139.6 ,Y= 195169.2080339712 ]\n",
      "point  15 [X= 149.5 ,Y= 223804.51105145755 ]\n",
      "point  16 [X= 159.4 ,Y= 254394.89834251328 ]\n",
      "point  17 [X= 169.3 ,Y= 286961.918609682 ]\n",
      "point  18 [X= 179.20000000000002 ,Y= 321467.6851357587 ]\n",
      "point  19 [X= 189.1 ,Y= 357954.73653629405 ]\n",
      "point  20 [X= 199.0 ,Y= 396411.3724923013 ]\n",
      "point  21 [X= 208.9 ,Y= 436820.8726848821 ]\n",
      "point  22 [X= 218.8 ,Y= 479176.6619274822 ]\n",
      "point  23 [X= 228.70000000000002 ,Y= 523498.366635608 ]\n",
      "point  24 [X= 238.60000000000002 ,Y= 569786.723088921 ]\n",
      "point  25 [X= 248.5 ,Y= 618014.5681731538 ]\n",
      "\n",
      "sumX  3243.5\n",
      "sumY  5486175.568929968\n",
      "sumXY  1042319932.0561646\n",
      "sumXqrt  547966.25\n",
      "sum_Xqrt_Y  211219220657.19913\n",
      "sumXqrt3  104122026.12500001\n",
      "sumXqrt4  21101041194.564503\n"
     ]
    }
   ],
   "source": [
    "a=10.\n",
    "b=2.\n",
    "c=2.\n",
    "s=10.1\n",
    "XYp={'x':np.array(np.arange(1,250,9.9))}\n",
    "XYp['y']=parabola(XYp['x'], a, b, c, s)\n",
    "\n",
    "n=len(XYp['x'])\n",
    "sumX = sum(XYp['x'])\n",
    "sumY = sum(XYp['y'])\n",
    "sumXY = 0.\n",
    "sumXqrt = 0.\n",
    "sum_Xqrt_Y = 0.\n",
    "sumXqrt3 = 0.\n",
    "sumXqrt4 = 0.\n",
    "\n",
    "for i in range(len(XYp['y'])):\n",
    "    sumXY += XYp['x'][i]*XYp['y'][i]\n",
    "    sumXqrt += XYp['x'][i]**2\n",
    "    sum_Xqrt_Y += (XYp['x'][i]**2)*XYp['y'][i]\n",
    "    sumXqrt3 += XYp['x'][i]**3\n",
    "    sumXqrt4 += XYp['x'][i]**4\n",
    "\n",
    "for i in range(len(XYp['y'])):\n",
    "    print('point ',i,'[X=',XYp['x'][i],',Y=',XYp['y'][i],']')\n",
    "\n",
    "print('\\nsumX ',sumX)\n",
    "print('sumY ',sumY)\n",
    "print('sumXY ',sumXY)\n",
    "print('sumXqrt ',sumXqrt)\n",
    "print('sum_Xqrt_Y ',sum_Xqrt_Y)\n",
    "print('sumXqrt3 ',sumXqrt3)\n",
    "print('sumXqrt4 ',sumXqrt4)"
   ]
  },
  {
   "cell_type": "code",
   "execution_count": 12,
   "metadata": {},
   "outputs": [
    {
     "name": "stdout",
     "output_type": "stream",
     "text": [
      "[9.999831472322569, 2.0454396496497793, -1.11411900119856]\n"
     ]
    }
   ],
   "source": [
    "obr_m = obr_matr([[n,      sumX,    sumXqrt ],\n",
    "                  [sumX,   sumXqrt, sumXqrt3],\n",
    "                  [sumXqrt,sumXqrt3,sumXqrt4]])\n",
    "vect = [sumY,\n",
    "        sumXY,\n",
    "        sum_Xqrt_Y]\n",
    "\n",
    "abc_koef_parabola = arr3x3_x_vect1x3(obr_m,vect)\n",
    "print(abc_koef_parabola)"
   ]
  },
  {
   "cell_type": "code",
   "execution_count": 13,
   "metadata": {},
   "outputs": [
    {
     "name": "stdout",
     "output_type": "stream",
     "text": [
      "{'x': array([  1. ,  10.9,  20.8,  30.7,  40.6,  50.5,  60.4,  70.3,  80.2,\n",
      "        90.1, 100. , 109.9, 119.8, 129.7, 139.6, 149.5, 159.4, 169.3,\n",
      "       179.2, 189.1, 199. , 208.9, 218.8, 228.7, 238.6, 248.5]), 'y': [10.931152120773788, 1209.2611504066283, 4367.758113897154, 9486.422042592349, 16565.252936492216, 25604.25079559675, 36603.41561990596, 49562.74740941982, 64482.246164138385, 81361.9118840616, 100201.74456918947, 121001.74421952204, 143761.91083505927, 168482.24441580116, 195162.7449617477, 223803.41247289893, 254404.24694925486, 286965.24839081545, 321486.4167975807, 357967.7521695505, 396409.2545067251, 436810.92380910437, 479172.76007668837, 523494.763309477, 569776.9335074704, 618019.2706706681]}\n"
     ]
    }
   ],
   "source": [
    "XYf = {'x':XYp['x'].copy(),\n",
    "       'y':[(abc_koef_parabola[0]*(x**2)+abc_koef_parabola[1]*x+abc_koef_parabola[2]) for x in XYp['x']]}\n",
    "print(XYf)"
   ]
  },
  {
   "cell_type": "code",
   "execution_count": 14,
   "metadata": {},
   "outputs": [
    {
     "data": {
      "text/plain": [
       "Text(1.0, 618014.5681731538, 'y = (10.0)x²+(2.045)x+(-1.114)')"
      ]
     },
     "execution_count": 14,
     "metadata": {},
     "output_type": "execute_result"
    },
    {
     "data": {
      "image/png": "[encoded data removed]",
      "text/plain": [
       "<Figure size 432x288 with 1 Axes>"
      ]
     },
     "metadata": {
      "needs_background": "light"
     },
     "output_type": "display_data"
    }
   ],
   "source": [
    "plt.plot(XYp['x'],XYp['y'],'ro')\n",
    "plt.plot(XYf['x'],XYf['y'],'b')\n",
    "plt.text(min(XYp['x']),max(XYp['y']),'y = ('+str(round(abc_koef_parabola[0],3))+')x²+('+str(round(abc_koef_parabola[1],3))+')x+('+str(round(abc_koef_parabola[2],3))+')',color='blue')"
   ]
  },
  {
   "cell_type": "code",
   "execution_count": null,
   "metadata": {},
   "outputs": [],
   "source": []
  },
  {
   "cell_type": "code",
   "execution_count": null,
   "metadata": {},
   "outputs": [],
   "source": []
  },
  {
   "cell_type": "code",
   "execution_count": null,
   "metadata": {},
   "outputs": [],
   "source": []
  },
  {
   "cell_type": "code",
   "execution_count": null,
   "metadata": {},
   "outputs": [],
   "source": []
  },
  {
   "cell_type": "code",
   "execution_count": null,
   "metadata": {},
   "outputs": [],
   "source": []
  },
  {
   "cell_type": "code",
   "execution_count": null,
   "metadata": {},
   "outputs": [],
   "source": []
  }
 ],
 "metadata": {
  "kernelspec": {
   "display_name": "Python 3",
   "language": "python",
   "name": "python3"
  },
  "language_info": {
   "codemirror_mode": {
    "name": "ipython",
    "version": 3
   },
   "file_extension": ".py",
   "mimetype": "text/x-python",
   "name": "python",
   "nbconvert_exporter": "python",
   "pygments_lexer": "ipython3",
   "version": "3.7.3"
  }
 },
 "nbformat": 4,
 "nbformat_minor": 2
}
