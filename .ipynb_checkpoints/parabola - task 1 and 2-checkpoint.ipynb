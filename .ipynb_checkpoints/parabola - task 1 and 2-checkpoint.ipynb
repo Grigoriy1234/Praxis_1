{
 "cells": [
  {
   "cell_type": "code",
<<<<<<< HEAD
   "execution_count": 5,
=======
   "execution_count": 20,
>>>>>>> new_br
   "metadata": {},
   "outputs": [],
   "source": [
    "import numpy as np\n",
    "import pandas as pd\n",
    "import matplotlib.pyplot as plt"
   ]
  },
  {
   "cell_type": "code",
<<<<<<< HEAD
   "execution_count": 6,
=======
   "execution_count": 21,
>>>>>>> new_br
   "metadata": {},
   "outputs": [],
   "source": [
    "def parabola(x, a, b, c, s):\n",
    "    y = a*(x**2) + b*x + c\n",
    "    y += s * np.random.randn(len(y))\n",
    "    return y"
   ]
  },
  {
   "cell_type": "code",
<<<<<<< HEAD
   "execution_count": 7,
=======
   "execution_count": 22,
>>>>>>> new_br
   "metadata": {},
   "outputs": [],
   "source": [
    "def tr_matr(arr):\n",
    "    tr = [[]]\n",
    "    for i in range(len(arr[0])):\n",
    "        for j in range(len(arr)):\n",
    "            tr[i].append(arr[j][i])\n",
    "        if i != len(arr[0])-1:\n",
    "            tr.append([])\n",
    "    return tr   "
   ]
  },
  {
   "cell_type": "code",
<<<<<<< HEAD
   "execution_count": 8,
=======
   "execution_count": 23,
>>>>>>> new_br
   "metadata": {},
   "outputs": [],
   "source": [
    "def opred_matr(arr):\n",
    "    opr=0.\n",
    "    if len(arr) == 2:\n",
    "        opr=arr[0][0]*arr[1][1]-arr[0][1]*arr[1][0]\n",
    "    else:\n",
    "        for i in range(len(arr)):\n",
    "            tmpi=i\n",
    "            tmpOpr=1.\n",
    "            for j in range(len(arr)):\n",
    "                tmpOpr*=arr[tmpi][j]\n",
    "                tmpi+=1\n",
    "                if tmpi == len(arr):\n",
    "                    tmpi=0\n",
    "            opr+=tmpOpr\n",
    "        for i in range(len(arr)):\n",
    "            tmpi=i\n",
    "            tmpOpr=1.\n",
    "            for j in range(len(arr))[::-1]:\n",
    "                tmpOpr*=arr[tmpi][j]\n",
    "                tmpi+=1\n",
    "                if tmpi == len(arr):\n",
    "                    tmpi=0\n",
    "            opr-=tmpOpr\n",
    "    return opr "
   ]
  },
  {
   "cell_type": "code",
<<<<<<< HEAD
   "execution_count": 9,
=======
   "execution_count": 24,
>>>>>>> new_br
   "metadata": {},
   "outputs": [],
   "source": [
    "def obr_matr(arr):\n",
    "    opr=opred_matr(arr)\n",
    "    if opr != 0:\n",
    "        obr=[[]]\n",
    "        tmp_arr = arr.copy()\n",
    "        tmp_arr = tr_matr(tmp_arr)\n",
    "        for i in range(len(tmp_arr)):\n",
    "            for j in range(len(tmp_arr)):\n",
    "                dop_arr = []\n",
    "                for i2 in range(len(tmp_arr)):\n",
    "                    for j2 in range(len(tmp_arr)):\n",
    "                        if i2!=i and j2!=j:\n",
    "                            dop_arr.append(tmp_arr[i2][j2])\n",
    "                dop_arr2=[[dop_arr[0],dop_arr[1]],[dop_arr[2],dop_arr[3]]]\n",
    "                obr.append(round(((-1)**(i+j+2))*(opred_matr(dop_arr2)),10))\n",
    "        obr=obr[1:]\n",
    "        for i in range(len(obr)):\n",
    "            obr[i]=obr[i]/opr        \n",
    "        obr=np.array(obr).reshape(3,3)         \n",
    "        return obr\n",
    "    else:\n",
    "        raise Exception('ERROR:opredelitel = 0')"
   ]
  },
  {
   "cell_type": "code",
<<<<<<< HEAD
   "execution_count": 10,
=======
   "execution_count": 25,
>>>>>>> new_br
   "metadata": {},
   "outputs": [],
   "source": [
    "def arr3x3_x_vect1x3(arr,vect):\n",
    "    vect_out = [0.,0.,0.]\n",
    "    for i in range(3):\n",
    "        for j in range(3):\n",
    "            vect_out[i]+=arr[i][j]*vect[j]\n",
    "    return vect_out[::-1]           "
   ]
  },
  {
   "cell_type": "code",
<<<<<<< HEAD
   "execution_count": 30,
=======
   "execution_count": 26,
>>>>>>> new_br
   "metadata": {},
   "outputs": [
    {
     "name": "stdout",
     "output_type": "stream",
     "text": [
<<<<<<< HEAD
      "point  0 [X= 1.0 ,Y= 15.287713099712885 ]\n",
      "point  1 [X= 10.9 ,Y= 1211.019305864386 ]\n",
      "point  2 [X= 20.8 ,Y= 4366.867520200539 ]\n",
      "point  3 [X= 30.700000000000003 ,Y= 9484.655946910796 ]\n",
      "point  4 [X= 40.6 ,Y= 16579.35944154771 ]\n",
      "point  5 [X= 50.5 ,Y= 25603.120662159716 ]\n",
      "point  6 [X= 60.400000000000006 ,Y= 36591.09491992143 ]\n",
      "point  7 [X= 70.3 ,Y= 49568.19926961658 ]\n",
      "point  8 [X= 80.2 ,Y= 64487.383251153035 ]\n",
      "point  9 [X= 90.10000000000001 ,Y= 81366.69784408867 ]\n",
      "point  10 [X= 100.0 ,Y= 100213.6150745066 ]\n",
      "point  11 [X= 109.9 ,Y= 120998.42806093387 ]\n",
      "point  12 [X= 119.80000000000001 ,Y= 143758.3998798116 ]\n",
      "point  13 [X= 129.70000000000002 ,Y= 168464.3742756656 ]\n",
      "point  14 [X= 139.6 ,Y= 195162.442452122 ]\n",
      "point  15 [X= 149.5 ,Y= 223799.62044230363 ]\n",
      "point  16 [X= 159.4 ,Y= 254400.33336070823 ]\n",
      "point  17 [X= 169.3 ,Y= 286976.42043352313 ]\n",
      "point  18 [X= 179.20000000000002 ,Y= 321479.40658234706 ]\n",
      "point  19 [X= 189.1 ,Y= 357955.46637108957 ]\n",
      "point  20 [X= 199.0 ,Y= 396402.7622088565 ]\n",
      "point  21 [X= 208.9 ,Y= 436804.4857752096 ]\n",
      "point  22 [X= 218.8 ,Y= 479160.9711345053 ]\n",
      "point  23 [X= 228.70000000000002 ,Y= 523506.1555634147 ]\n",
      "point  24 [X= 238.60000000000002 ,Y= 569772.1605872995 ]\n",
      "point  25 [X= 248.5 ,Y= 618032.4658645602 ]\n",
      "\n",
      "sumX  3243.5\n",
      "sumY  5486161.193941421\n",
      "sumXY  1042315573.31464\n",
      "sumXqrt  547966.25\n",
      "sum_Xqrt_Y  211218522959.90863\n",
=======
      "point  0 [X= 1.0 ,Y= -43383.469813883916 ]\n",
      "point  1 [X= 10.9 ,Y= 16205.308472872555 ]\n",
      "point  2 [X= 20.8 ,Y= -649.3992439788535 ]\n",
      "point  3 [X= 30.700000000000003 ,Y= 48992.82103680936 ]\n",
      "point  4 [X= 40.6 ,Y= 71031.00176782117 ]\n",
      "point  5 [X= 50.5 ,Y= 19265.382745473642 ]\n",
      "point  6 [X= 60.400000000000006 ,Y= 31163.746874077915 ]\n",
      "point  7 [X= 70.3 ,Y= 54021.093898976535 ]\n",
      "point  8 [X= 80.2 ,Y= 104754.95985500855 ]\n",
      "point  9 [X= 90.10000000000001 ,Y= 93089.75860127667 ]\n",
      "point  10 [X= 100.0 ,Y= 109755.1771164777 ]\n",
      "point  11 [X= 109.9 ,Y= 104364.48075477281 ]\n",
      "point  12 [X= 119.80000000000001 ,Y= 158333.75183575798 ]\n",
      "point  13 [X= 129.70000000000002 ,Y= 154231.70066342686 ]\n",
      "point  14 [X= 139.6 ,Y= 239799.75828552837 ]\n",
      "point  15 [X= 149.5 ,Y= 227457.23261989086 ]\n",
      "point  16 [X= 159.4 ,Y= 268279.86656484706 ]\n",
      "point  17 [X= 169.3 ,Y= 333140.353988727 ]\n",
      "point  18 [X= 179.20000000000002 ,Y= 325757.3162256208 ]\n",
      "point  19 [X= 189.1 ,Y= 389272.3862602042 ]\n",
      "point  20 [X= 199.0 ,Y= 422361.1232186699 ]\n",
      "point  21 [X= 208.9 ,Y= 442999.87369917234 ]\n",
      "point  22 [X= 218.8 ,Y= 434751.14223571774 ]\n",
      "point  23 [X= 228.70000000000002 ,Y= 494575.67833810573 ]\n",
      "point  24 [X= 238.60000000000002 ,Y= 580790.5739723219 ]\n",
      "point  25 [X= 248.5 ,Y= 637212.1283324299 ]\n",
      "\n",
      "sumX  3243.5\n",
      "sumY  5717573.7483061245\n",
      "sumXY  1069748588.4669967\n",
      "sumXqrt  547966.25\n",
      "sum_Xqrt_Y  214905060617.19635\n",
>>>>>>> new_br
      "sumXqrt3  104122026.12500001\n",
      "sumXqrt4  21101041194.564503\n"
     ]
    }
   ],
   "source": [
<<<<<<< HEAD
    "a=10.\n",
    "b=2.\n",
    "c=2.\n",
    "s=10.2\n",
=======
    "a=10.1223\n",
    "b=21.123\n",
    "c=21.123\n",
    "s=30000.3\n",
>>>>>>> new_br
    "XYp={'x':np.array(np.arange(1,250,9.9))}\n",
    "XYp['y']=parabola(XYp['x'], a, b, c, s)\n",
    "\n",
    "b321=[]\n",
    "\n",
    "n=len(XYp['x'])\n",
    "sumX = sum(XYp['x'])\n",
    "sumY = sum(XYp['y'])\n",
    "sumXY = 0.\n",
    "sumXqrt = 0.\n",
    "sum_Xqrt_Y = 0.\n",
    "sumXqrt3 = 0.\n",
    "sumXqrt4 = 0.\n",
    "\n",
    "for i in range(len(XYp['y'])):\n",
    "    sumXY += XYp['x'][i]*XYp['y'][i]\n",
    "    sumXqrt += XYp['x'][i]**2\n",
    "    sum_Xqrt_Y += (XYp['x'][i]**2)*XYp['y'][i]\n",
    "    sumXqrt3 += XYp['x'][i]**3\n",
    "    sumXqrt4 += XYp['x'][i]**4\n",
    "\n",
    "for i in range(len(XYp['y'])):\n",
    "    print('point ',i,'[X=',XYp['x'][i],',Y=',XYp['y'][i],']')\n",
    "\n",
    "print('\\nsumX ',sumX)\n",
    "print('sumY ',sumY)\n",
    "print('sumXY ',sumXY)\n",
    "print('sumXqrt ',sumXqrt)\n",
    "print('sum_Xqrt_Y ',sum_Xqrt_Y)\n",
    "print('sumXqrt3 ',sumXqrt3)\n",
    "print('sumXqrt4 ',sumXqrt4)"
   ]
  },
  {
   "cell_type": "code",
<<<<<<< HEAD
   "execution_count": 16,
=======
   "execution_count": 27,
>>>>>>> new_br
   "metadata": {},
   "outputs": [
    {
     "name": "stdout",
     "output_type": "stream",
     "text": [
<<<<<<< HEAD
      "[10.000717417478086, 1.780779179331148, 16.27053281245753]\n"
=======
      "[8.677624700988076, 321.90205233545566, -3136.962490443606]\n"
>>>>>>> new_br
     ]
    }
   ],
   "source": [
    "obr_m = obr_matr([[n,      sumX,    sumXqrt ],\n",
    "                  [sumX,   sumXqrt, sumXqrt3],\n",
    "                  [sumXqrt,sumXqrt3,sumXqrt4]])\n",
    "vect = [sumY,\n",
    "        sumXY,\n",
    "        sum_Xqrt_Y]\n",
    "\n",
    "abc_koef_parabola = arr3x3_x_vect1x3(obr_m,vect)\n",
    "print(abc_koef_parabola)"
   ]
  },
  {
   "cell_type": "code",
<<<<<<< HEAD
   "execution_count": 17,
=======
   "execution_count": 28,
>>>>>>> new_br
   "metadata": {},
   "outputs": [
    {
     "name": "stdout",
     "output_type": "stream",
     "text": [
      "{'x': array([  1. ,  10.9,  20.8,  30.7,  40.6,  50.5,  60.4,  70.3,  80.2,\n",
      "        90.1, 100. , 109.9, 119.8, 129.7, 139.6, 149.5, 159.4, 169.3,\n",
<<<<<<< HEAD
      "       179.2, 189.1, 199. , 208.9, 218.8, 228.7, 238.6, 248.5]), 'y': [28.052029409266765, 1223.8662622377385, 4380.021123240265, 9496.516612416846, 16573.35272976748, 25610.52947529217, 36608.04684899092, 49565.904850863706, 64484.10348091057, 81362.64273913148, 100201.52262552643, 121000.74314009547, 143760.30428283854, 168480.20605375568, 195160.44845284682, 223801.03148011205, 254401.95513555134, 286963.2194191647, 321484.82433095213, 357966.7698709135, 396409.05603904906, 436811.6828353586, 479174.6502598422, 523497.9583125, 569781.6069933317, 618025.5963023374]}\n"
=======
      "       179.2, 189.1, 199. , 208.9, 218.8, 228.7, 238.6, 248.5]), 'y': [-2806.3828134071623, 1402.7584707372544, 7312.8877487693535, 14924.00502068914, 24236.1102864966, 35249.20354619175, 47963.284799774585, 62378.354047245084, 78494.4112886033, 96311.45652384918, 115829.48975298273, 137048.51097600398, 159968.52019291293, 184589.51740370956, 210911.50260839378, 238934.47580696578, 268658.4369994254, 300083.38618577283, 333209.3233660079, 368036.2485401305, 404564.1617081409, 442793.06287003896, 482722.95202582475, 524353.8291754982, 567685.6943190594, 612718.547456508]}\n"
>>>>>>> new_br
     ]
    }
   ],
   "source": [
    "XYf = {'x':XYp['x'].copy(),\n",
    "       'y':[(abc_koef_parabola[0]*(x**2)+abc_koef_parabola[1]*x+abc_koef_parabola[2]) for x in XYp['x']]}\n",
    "print(XYf)"
   ]
  },
  {
   "cell_type": "code",
<<<<<<< HEAD
   "execution_count": 18,
=======
   "execution_count": 29,
>>>>>>> new_br
   "metadata": {},
   "outputs": [
    {
     "data": {
      "text/plain": [
<<<<<<< HEAD
       "Text(1.0, 618022.3152661907, 'y = (10.001)x²+(1.781)x+(16.271)')"
      ]
     },
     "execution_count": 18,
=======
       "Text(1.0, 637212.1283324299, 'y = (8.678)x²+(321.902)x+(-3136.962)')"
      ]
     },
     "execution_count": 29,
>>>>>>> new_br
     "metadata": {},
     "output_type": "execute_result"
    },
    {
     "data": {
<<<<<<< HEAD
      "image/png": "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\n",
=======
      "image/png": "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\n",
>>>>>>> new_br
      "text/plain": [
       "<Figure size 432x288 with 1 Axes>"
      ]
     },
     "metadata": {
      "needs_background": "light"
     },
     "output_type": "display_data"
    }
   ],
   "source": [
    "plt.plot(XYp['x'],XYp['y'],'ro')\n",
    "plt.plot(XYf['x'],XYf['y'],'b')\n",
    "plt.text(min(XYp['x']),max(XYp['y']),'y = ('+str(round(abc_koef_parabola[0],3))+')x²+('+str(round(abc_koef_parabola[1],3))+')x+('+str(round(abc_koef_parabola[2],3))+')',color='blue')"
   ]
  },
  {
   "cell_type": "code",
   "execution_count": null,
   "metadata": {},
   "outputs": [],
   "source": []
  },
  {
   "cell_type": "code",
   "execution_count": null,
   "metadata": {},
   "outputs": [],
   "source": []
  },
  {
   "cell_type": "code",
   "execution_count": null,
   "metadata": {},
   "outputs": [],
   "source": []
  },
  {
   "cell_type": "code",
   "execution_count": null,
   "metadata": {},
   "outputs": [],
   "source": []
  },
  {
   "cell_type": "code",
   "execution_count": null,
   "metadata": {},
   "outputs": [],
   "source": []
  },
  {
   "cell_type": "code",
   "execution_count": null,
   "metadata": {},
   "outputs": [],
   "source": []
  }
 ],
 "metadata": {
  "kernelspec": {
   "display_name": "Python 3",
   "language": "python",
   "name": "python3"
  },
  "language_info": {
   "codemirror_mode": {
    "name": "ipython",
    "version": 3
   },
   "file_extension": ".py",
   "mimetype": "text/x-python",
   "name": "python",
   "nbconvert_exporter": "python",
   "pygments_lexer": "ipython3",
   "version": "3.7.3"
  }
 },
 "nbformat": 4,
 "nbformat_minor": 2
}
