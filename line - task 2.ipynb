{
 "cells": [
  {
   "cell_type": "code",
   "execution_count": 18,
   "metadata": {},
   "outputs": [],
   "source": [
    "import numpy as np\n",
    "import pandas as pd\n",
    "import matplotlib.pyplot as plt"
   ]
  },
  {
   "cell_type": "code",
   "execution_count": 19,
   "metadata": {},
   "outputs": [],
   "source": [
    "def line(x, a, b, s):\n",
    "    \"\"\"\n",
    "    :param x: vector of x values, np.arange(-10, 10, 0.1)\n",
    "    :param a: a parameter of the line\n",
    "    :param b: b parameter of the line\n",
    "    :param s: sigma parameret of the noise (with normal distribution)\n",
    "    \"\"\"\n",
    "    y = a*x + b\n",
    "    y += s * np.random.randn(len(y))\n",
    "    \n",
    "    return y"
   ]
  },
  {
   "cell_type": "code",
   "execution_count": 72,
   "metadata": {},
   "outputs": [
    {
     "name": "stdout",
     "output_type": "stream",
     "text": [
      "point  0 [X= 1.0 ,Y= -10.273349413358858 ]\n",
      "point  1 [X= 3.3 ,Y= -47.346150378783584 ]\n",
      "point  2 [X= 5.6 ,Y= -65.33632509252726 ]\n",
      "point  3 [X= 7.8999999999999995 ,Y= -101.69171748140722 ]\n",
      "point  4 [X= 10.2 ,Y= -125.20864078251525 ]\n",
      "point  5 [X= 12.5 ,Y= -144.6481595541998 ]\n",
      "point  6 [X= 14.799999999999999 ,Y= -184.4920132441338 ]\n",
      "point  7 [X= 17.099999999999998 ,Y= -191.36501986874086 ]\n",
      "point  8 [X= 19.4 ,Y= -232.1879446465846 ]\n",
      "point  9 [X= 21.7 ,Y= -264.8602872012924 ]\n",
      "point  10 [X= 24.0 ,Y= -292.9704702776055 ]\n"
     ]
    }
   ],
   "source": [
    "a=-12.\n",
    "b=-2.\n",
    "s=5.\n",
    "\n",
    "XYp={'x':np.array(np.arange(1,25,2.3)),'y':np.array([])}\n",
    "XYp['y'] = line(XYp['x'], a, b, s)\n",
    "for i in range(len(XYp['y'])):\n",
    "    print('point ',i,'[X=',XYp['x'][i],',Y=',XYp['y'][i],']')\n",
    "n = len(XYp['x'])"
   ]
  },
  {
   "cell_type": "code",
   "execution_count": 73,
   "metadata": {},
   "outputs": [],
   "source": [
    "sumX = sum(XYp['x'])\n",
    "sumY = sum(XYp['y'])\n",
    "sumXY = 0.\n",
    "sumXqrt = 0.\n",
    "sum_Xqrt_Y = 0.\n",
    "sumXqrt3 = 0.\n",
    "sumXqrt4 = 0."
   ]
  },
  {
   "cell_type": "code",
   "execution_count": 74,
   "metadata": {},
   "outputs": [],
   "source": [
    "for i in range(len(XYp['y'])):\n",
    "    sumXY += XYp['x'][i]*XYp['y'][i]\n",
    "    sumXqrt += XYp['x'][i]**2"
   ]
  },
  {
   "cell_type": "code",
   "execution_count": 75,
   "metadata": {},
   "outputs": [],
   "source": [
    "a = (n*sumXY - sumX*sumY)/(n*sumXqrt - sumX**2)\n",
    "b = (sumY - a*sumX)/n\n",
    "XYl1 = {'x':[min(XYp['x'])-3,max(XYp['x'])+3]}\n",
    "XYl1['y'] = [a*i+b for i in XYl1['x']]\n",
    "XYl2 = {'x':XYp['x'].copy()}\n",
    "XYl2['y'] = [(((i+1)**(1./3))+1) for i in XYl2['x']]"
   ]
  },
  {
   "cell_type": "code",
   "execution_count": 76,
   "metadata": {},
   "outputs": [
    {
     "name": "stdout",
     "output_type": "stream",
     "text": [
      "a =  -11.94753750003845 \tb =  -1.5994246987147562\n",
      "Xpoint =  [ 1.   3.3  5.6  7.9 10.2 12.5 14.8 17.1 19.4 21.7 24. ] \n",
      "Ypoint =  [ -10.27334941  -47.34615038  -65.33632509 -101.69171748 -125.20864078\n",
      " -144.64815955 -184.49201324 -191.36501987 -232.18794465 -264.8602872\n",
      " -292.97047028]\n",
      "\n",
      "Xline 1 =  [-2.0, 27.0] \n",
      "Yline 1 =  [22.295650301362144, -324.1829371997529]\n",
      "\n",
      "Xline 2 =  [ 1.   3.3  5.6  7.9 10.2 12.5 14.8 17.1 19.4 21.7 24. ] \n",
      "Yline 2 =  [2.2599210498948734, 2.626133331679169, 2.8757774553669035, 3.0723510980592605, 3.2373778841627936, 3.381101577952299, 3.5092987040930996, 3.625585659196379, 3.7323944160944684, 3.8314481885281864, 3.924017738212866]\n"
     ]
    }
   ],
   "source": [
    "print('a = ',a,'\\tb = ',b)\n",
    "print('Xpoint = ',XYp['x'],'\\nYpoint = ',XYp['y'])\n",
    "print('\\nXline 1 = ',XYl1['x'],'\\nYline 1 = ',XYl1['y'])\n",
    "print('\\nXline 2 = ',XYl2['x'],'\\nYline 2 = ',XYl2['y'])"
   ]
  },
  {
   "cell_type": "code",
   "execution_count": 77,
   "metadata": {},
   "outputs": [
    {
     "data": {
      "text/plain": [
       "Text(25.45, 3.924017738212866, 'line 2')"
      ]
     },
     "execution_count": 77,
     "metadata": {},
     "output_type": "execute_result"
    },
    {
     "data": {
      "image/png": "[encoded data removed]",
      "text/plain": [
       "<Figure size 432x288 with 1 Axes>"
      ]
     },
     "metadata": {
      "needs_background": "light"
     },
     "output_type": "display_data"
    }
   ],
   "source": [
    "plt.plot(XYp['x'],XYp['y'],'ro')\n",
    "plt.plot(XYl1['x'],XYl1['y'],color='blue')\n",
    "plt.plot(XYl2['x'],XYl2['y'],color='Green')\n",
    "\n",
    "otkl1 = 0.\n",
    "for i in range(n):\n",
    "    otkl1 += ((XYp['y'][i]-((a*XYp['x'][i])+b))**2)\n",
    "    \n",
    "otkl2 = 0.    \n",
    "for i in range(n):\n",
    "    otkl2 += ((XYp['y'][i]-((XYp['x'][i]+1)**(1./3)+1))**2)\n",
    "    \n",
    "plt.text(XYl1['x'][0],XYl1['y'][1],'Pogreshnost 1 = '+str(round(otkl1,4)),color='blue')\n",
    "plt.text(XYl1['x'][0],(XYl1['y'][1]-(XYl1['y'][1]-XYl1['y'][0])*0.07),'Pogreshnost 2 = '+str(round(otkl2,4)),color='Green')\n",
    "plt.text(XYl1['x'][0],(XYl1['y'][1]-(XYl1['y'][1]-XYl1['y'][0])*0.15),'a = '+str(round(a,4))+'     b = '+str(round(b,4)),color='black')\n",
    "plt.text((XYl1['x'][1]-(XYl1['x'][1]-XYl1['x'][0])*0.15),XYl1['y'][1],'line 1',color='blue')\n",
    "plt.text((XYl2['x'][-1]+(XYl1['x'][1]-XYl1['x'][0])*0.05),XYl2['y'][-1],'line 2',color='Green')"
   ]
  },
  {
   "cell_type": "code",
   "execution_count": null,
   "metadata": {},
   "outputs": [],
   "source": []
  },
  {
   "cell_type": "code",
   "execution_count": null,
   "metadata": {},
   "outputs": [],
   "source": []
  },
  {
   "cell_type": "code",
   "execution_count": null,
   "metadata": {},
   "outputs": [],
   "source": []
  },
  {
   "cell_type": "code",
   "execution_count": null,
   "metadata": {},
   "outputs": [],
   "source": []
  },
  {
   "cell_type": "code",
   "execution_count": null,
   "metadata": {},
   "outputs": [],
   "source": []
  },
  {
   "cell_type": "code",
   "execution_count": null,
   "metadata": {},
   "outputs": [],
   "source": []
  },
  {
   "cell_type": "code",
   "execution_count": null,
   "metadata": {},
   "outputs": [],
   "source": []
  },
  {
   "cell_type": "code",
   "execution_count": null,
   "metadata": {},
   "outputs": [],
   "source": []
  },
  {
   "cell_type": "code",
   "execution_count": null,
   "metadata": {},
   "outputs": [],
   "source": []
  }
 ],
 "metadata": {
  "kernelspec": {
   "display_name": "Python 3",
   "language": "python",
   "name": "python3"
  },
  "language_info": {
   "codemirror_mode": {
    "name": "ipython",
    "version": 3
   },
   "file_extension": ".py",
   "mimetype": "text/x-python",
   "name": "python",
   "nbconvert_exporter": "python",
   "pygments_lexer": "ipython3",
   "version": "3.7.3"
  }
 },
 "nbformat": 4,
 "nbformat_minor": 2
}
